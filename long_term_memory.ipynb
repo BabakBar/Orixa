{
 "cells": [
  {
   "cell_type": "markdown",
   "metadata": {},
   "source": [
    "Vectorstore-backed Memory\n",
    "\n",
    "This means storing the personality preferences in a data structure that's easy to look up. In the case of LLMs, since Q&A is unstructured data and queries, a vector database might come to mind. This is not the only option (can always convert unstructured queries to structured, and query data in SQL or other ways).\n",
    "\n",
    "Pinecone setup to store user's personality bank , and only query the relevant parts when the assistant looks at the user's query.\n",
    "\n",
    "First, we set up Pinecone as our vector database.\n",
    "\n",
    "Step one is to install Pinecone."
   ]
  },
  {
   "cell_type": "code",
   "execution_count": null,
   "metadata": {},
   "outputs": [],
   "source": [
    "pip install pinecone-client --quiet"
   ]
  },
  {
   "cell_type": "code",
   "execution_count": null,
   "metadata": {},
   "outputs": [],
   "source": [
    "PINECONE_API_KEY = getpass.getpass('Enter your Pinecone API key: ')"
   ]
  },
  {
   "cell_type": "markdown",
   "metadata": {},
   "source": [
    "setup Pinecone SDK client. using Pinecone's new serverless architecture (free lol)"
   ]
  },
  {
   "cell_type": "code",
   "execution_count": null,
   "metadata": {},
   "outputs": [],
   "source": [
    "from pinecone import Pinecone, ServerlessSpec\n",
    "\n",
    "pc = Pinecone(api_key=PINECONE_API_KEY)"
   ]
  },
  {
   "cell_type": "markdown",
   "metadata": {},
   "source": [
    "create an index. An index for a vector database is a way to organize embeddings in an efficient manner for search. Popular indexing algorithms are: HNSW, IVF, etc.. I use HNSW with Supabase (which is just a Postgres table and pg-vector extension underneath)"
   ]
  },
  {
   "cell_type": "code",
   "execution_count": null,
   "metadata": {},
   "outputs": [],
   "source": [
    "index_name = \"user-preferences\"\n",
    "\n",
    "EMBEDDINGS_DIMENSIONS = 512\n",
    "\n",
    "# Just checking to see if this index already exist\n",
    "existing_indexes = pc.list_indexes().names()\n",
    "\n",
    "# If index doesn't exist yet, then delete it and create one (we're starting from scratch)\n",
    "if index_name in existing_indexes:\n",
    "  pc.delete_index(index_name)\n",
    "  print(\"Deleted index.\")\n",
    "\n",
    "pc.create_index(\n",
    "    name=index_name,\n",
    "    dimension=EMBEDDINGS_DIMENSIONS,\n",
    "    metric=\"cosine\",\n",
    "    spec=ServerlessSpec(\n",
    "        cloud='aws',\n",
    "        region='us-east-1'\n",
    "    )\n",
    ")\n",
    "print(\"Created index.\")\n",
    "\n",
    "index = pc.Index(index_name)"
   ]
  }
 ],
 "metadata": {
  "language_info": {
   "name": "python"
  }
 },
 "nbformat": 4,
 "nbformat_minor": 2
}
