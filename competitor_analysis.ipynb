{
 "cells": [
  {
   "cell_type": "markdown",
   "metadata": {},
   "source": [
    "Get my competitors' pricing from their websites"
   ]
  },
  {
   "cell_type": "code",
   "execution_count": 1,
   "metadata": {},
   "outputs": [],
   "source": [
    "competitor_sites = [\n",
    "    {\n",
    "        \"name\": \"Connected Stories\",\n",
    "        \"url\": \"https://www.connected-stories.com/pricing\"\n",
    "    },\n",
    "    {\n",
    "        \"name\": \"ZBrain\",\n",
    "        \"url\": \"https://zbrain.ai/pricing/\"\n",
    "    },\n",
    "    {\n",
    "        \"name\": \"Pecan AI\",\n",
    "        \"url\": \"https://www.pecan.ai/pricing/\"\n",
    "    },\n",
    "    {\n",
    "        \"name\": \"Bolt Chat AI\",\n",
    "        \"url\": \"https://www.boltchatai.com/pricing/\"\n",
    "    },\n",
    "]"
   ]
  },
  {
   "cell_type": "markdown",
   "metadata": {},
   "source": [
    "Let's setup cost calculations\n",
    "\n",
    "We can calculate how much it'll cost by using OpenAI's tiktoken library."
   ]
  },
  {
   "cell_type": "code",
   "execution_count": null,
   "metadata": {},
   "outputs": [],
   "source": [
    "pip install tiktoken --quiet"
   ]
  }
 ],
 "metadata": {
  "kernelspec": {
   "display_name": "env",
   "language": "python",
   "name": "python3"
  },
  "language_info": {
   "codemirror_mode": {
    "name": "ipython",
    "version": 3
   },
   "file_extension": ".py",
   "mimetype": "text/x-python",
   "name": "python",
   "nbconvert_exporter": "python",
   "pygments_lexer": "ipython3",
   "version": "3.12.1"
  }
 },
 "nbformat": 4,
 "nbformat_minor": 2
}
