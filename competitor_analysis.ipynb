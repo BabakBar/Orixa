{
 "cells": [
  {
   "cell_type": "markdown",
   "metadata": {},
   "source": [
    "Get my competitors' pricing from their websites"
   ]
  },
  {
   "cell_type": "code",
   "execution_count": null,
   "metadata": {},
   "outputs": [],
   "source": [
    "competitor_sites = [\n",
    "    {\n",
    "        \"name\": \"Connected Stories\",\n",
    "        \"url\": \"https://www.connected-stories.com/pricing\"\n",
    "    },\n",
    "    {\n",
    "        \"name\": \"ZBrain\",\n",
    "        \"url\": \"https://zbrain.ai/pricing/\"\n",
    "    },\n",
    "    {\n",
    "        \"name\": \"Pecan AI\",\n",
    "        \"url\": \"https://www.pecan.ai/pricing/\"\n",
    "    },\n",
    "    {\n",
    "        \"name\": \"Bolt Chat AI\",\n",
    "        \"url\": \"https://www.boltchatai.com/pricing/\"\n",
    "    },\n",
    "]"
   ]
  }
 ],
 "metadata": {
  "language_info": {
   "name": "python"
  }
 },
 "nbformat": 4,
 "nbformat_minor": 2
}
